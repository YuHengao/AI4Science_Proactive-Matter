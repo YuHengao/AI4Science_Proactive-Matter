{
 "cells": [
  {
   "cell_type": "code",
   "execution_count": 1,
   "id": "edb29b08-3307-4014-b243-bc90f9eab200",
   "metadata": {},
   "outputs": [],
   "source": [
    "from lxml import etree"
   ]
  },
  {
   "cell_type": "code",
   "execution_count": 2,
   "id": "eb8858bd-503e-4802-bfdd-6ba26db722c2",
   "metadata": {},
   "outputs": [],
   "source": [
    "import os\n",
    "import glob\n",
    "import pandas as pd"
   ]
  },
  {
   "cell_type": "code",
   "execution_count": 3,
   "id": "a4ccadc8-7a6c-419d-93e2-dc6e217a8f18",
   "metadata": {},
   "outputs": [],
   "source": [
    "from rdkit import Chem\n",
    "from rdkit.Chem import Draw\n",
    "from rdkit.Chem.Draw import IPythonConsole\n",
    "from rdkit.Chem import Descriptors\n",
    "from rdkit.Chem import AllChem\n",
    "from rdkit import DataStructs"
   ]
  },
  {
   "cell_type": "code",
   "execution_count": 4,
   "id": "fcab1dc7-5123-4976-b912-cf24c8bdfe83",
   "metadata": {},
   "outputs": [],
   "source": [
    "def name_smiles_inchi(gen):\n",
    "    \"\"\"\n",
    "    gen: generator for the elements in an etree\n",
    "    \"\"\"\n",
    "    li = []\n",
    "    for element in gen:\n",
    "        if len(element.findall('.//{http://www.xml-cml.org/schema}name')) > 0:\n",
    "            name = element.findall('.//{http://www.xml-cml.org/schema}name')[0].text\n",
    "        else:\n",
    "            name = 'none'   \n",
    "        if name == 'title compound':\n",
    "            if len(element.findall('.//{http://bitbucket.org/dan2097}nameResolved')) > 0:\n",
    "                name = element.findall('.//{http://bitbucket.org/dan2097}nameResolved')[0].text\n",
    "            else:\n",
    "                name = 'unknown'\n",
    "\n",
    "        if len(element.findall('.//{http://www.xml-cml.org/schema}identifier[@dictRef=\"cml:smiles\"]')) > 0:\n",
    "            smiles = element.findall('.//{http://www.xml-cml.org/schema}identifier[@dictRef=\"cml:smiles\"]')[0].attrib['value']\n",
    "        else:\n",
    "            smiles = 'none'\n",
    "\n",
    "        if len(element.findall('.//{http://www.xml-cml.org/schema}identifier[@dictRef=\"cml:inchi\"]')) > 0: \n",
    "            inchi = element.findall('.//{http://www.xml-cml.org/schema}identifier[@dictRef=\"cml:inchi\"]')[0].attrib['value']\n",
    "        else:\n",
    "            inchi = 'none'\n",
    "\n",
    "        new_row = [name, smiles, inchi]\n",
    "        li.append(new_row)\n",
    "    return li"
   ]
  },
  {
   "cell_type": "code",
   "execution_count": 5,
   "id": "a1b3edb2-b4cc-40d9-9bd5-453b11745a3a",
   "metadata": {},
   "outputs": [
    {
     "data": {
      "text/plain": [
       "['.ipynb_checkpoints',\n",
       " '1976_Sep2016_USPTOgrants_cml',\n",
       " '2001_Sep2016_USPTOapplications_cml',\n",
       " 'references']"
      ]
     },
     "execution_count": 5,
     "metadata": {},
     "output_type": "execute_result"
    }
   ],
   "source": [
    "chem_sci_folder = r'/Users/wendong/Library/CloudStorage/OneDrive-Personal/Lab/Project_AI4Science/chemical science'\n",
    "os.chdir(chem_sci_folder)\n",
    "root_folder, main_folders, files_in_root = next(os.walk(chem_sci_folder))\n",
    "main_folders.sort()\n",
    "files_in_root.sort()\n",
    "main_folders"
   ]
  },
  {
   "cell_type": "code",
   "execution_count": 6,
   "id": "fada9130-872b-4057-93bc-742ffde98495",
   "metadata": {},
   "outputs": [],
   "source": [
    "main_folder_ID = 2\n",
    "os.chdir(main_folders[main_folder_ID])\n",
    "_, year_folders, _ = next(os.walk(os.getcwd()))\n",
    "year_folders.sort()"
   ]
  },
  {
   "cell_type": "code",
   "execution_count": 7,
   "id": "02f4b8d3-9001-4fba-b298-00c052b1595b",
   "metadata": {},
   "outputs": [
    {
     "data": {
      "text/plain": [
       "'/Users/wendong/Library/CloudStorage/OneDrive-Personal/Lab/Project_AI4Science/chemical science/2001_Sep2016_USPTOapplications_cml/2001'"
      ]
     },
     "execution_count": 7,
     "metadata": {},
     "output_type": "execute_result"
    }
   ],
   "source": [
    "year_folder_ID = 0\n",
    "os.chdir(year_folders[year_folder_ID])\n",
    "xml_file_list = glob.glob('*.xml')\n",
    "xml_file_list.sort()\n",
    "os.getcwd()"
   ]
  },
  {
   "cell_type": "code",
   "execution_count": 8,
   "id": "982eb5fc-cfd2-4fa8-8e34-03dc45b58d0e",
   "metadata": {},
   "outputs": [],
   "source": [
    "df_products = pd.DataFrame(columns=['name', 'smiles', 'inchi'])\n",
    "df_reactants = pd.DataFrame(columns=['name', 'smiles', 'inchi'])\n",
    "df_solvents = pd.DataFrame(columns=['name', 'smiles', 'inchi'])\n",
    "df_catalysts = pd.DataFrame(columns=['name', 'smiles', 'inchi'])\n",
    "df_actions = pd.DataFrame(columns=['actions'])"
   ]
  },
  {
   "cell_type": "code",
   "execution_count": 9,
   "id": "db80f6c8-a072-4de2-a45d-30555981dfdf",
   "metadata": {},
   "outputs": [],
   "source": [
    "for xml_file in xml_file_list:\n",
    "    tree = etree.parse(xml_file)\n",
    "    root = tree.getroot()\n",
    "    \n",
    "    li = name_smiles_inchi(root.iterfind('.//{http://www.xml-cml.org/schema}product'))\n",
    "    df = pd.DataFrame(li, columns=['name', 'smiles', 'inchi'])\n",
    "    df_products = df_products.append(df)\n",
    "    df_products.drop_duplicates(inplace=True, ignore_index=True)\n",
    "    \n",
    "    li = name_smiles_inchi(root.iterfind('.//{http://www.xml-cml.org/schema}reactant'))\n",
    "    df = pd.DataFrame(li, columns=['name', 'smiles', 'inchi'])\n",
    "    df_reactants = df_reactants.append(df)\n",
    "    df_reactants.drop_duplicates(inplace=True, ignore_index=True)\n",
    "    \n",
    "    li = name_smiles_inchi(root.iterfind('.//{http://www.xml-cml.org/schema}spectator[@role=\"solvent\"]'))\n",
    "    df = pd.DataFrame(li, columns=['name', 'smiles', 'inchi'])\n",
    "    df_solvents = df_solvents.append(df)\n",
    "    df_solvents.drop_duplicates(inplace=True, ignore_index=True)\n",
    "    \n",
    "    li = name_smiles_inchi(root.iterfind('.//{http://www.xml-cml.org/schema}spectator[@role=\"catalyst\"]'))\n",
    "    df = pd.DataFrame(li, columns=['name', 'smiles', 'inchi'])\n",
    "    df_catalysts = df_catalysts.append(df)\n",
    "    df_catalysts.drop_duplicates(inplace=True, ignore_index=True)\n",
    "    \n",
    "    li = [e.attrib['action'] for e in root.findall('.//{http://bitbucket.org/dan2097}reactionAction[@action]')]\n",
    "    df = pd.DataFrame(li, columns=['actions'])\n",
    "    df_actions = df_actions.append(df)\n",
    "    df_actions.drop_duplicates(inplace=True, ignore_index=True)\n",
    "    "
   ]
  },
  {
   "cell_type": "code",
   "execution_count": 10,
   "id": "f3576b52-3cdc-4a8b-adbe-3bbc1e13c472",
   "metadata": {},
   "outputs": [
    {
     "data": {
      "text/plain": [
       "name      8221\n",
       "smiles    8221\n",
       "inchi     8221\n",
       "dtype: int64"
      ]
     },
     "execution_count": 10,
     "metadata": {},
     "output_type": "execute_result"
    }
   ],
   "source": [
    "df_products.count()"
   ]
  },
  {
   "cell_type": "code",
   "execution_count": 15,
   "id": "3bc78da0-e5e8-4682-ba09-172716839b35",
   "metadata": {},
   "outputs": [
    {
     "data": {
      "text/html": [
       "<div>\n",
       "<style scoped>\n",
       "    .dataframe tbody tr th:only-of-type {\n",
       "        vertical-align: middle;\n",
       "    }\n",
       "\n",
       "    .dataframe tbody tr th {\n",
       "        vertical-align: top;\n",
       "    }\n",
       "\n",
       "    .dataframe thead th {\n",
       "        text-align: right;\n",
       "    }\n",
       "</style>\n",
       "<table border=\"1\" class=\"dataframe\">\n",
       "  <thead>\n",
       "    <tr style=\"text-align: right;\">\n",
       "      <th></th>\n",
       "      <th>name</th>\n",
       "      <th>smiles</th>\n",
       "      <th>inchi</th>\n",
       "    </tr>\n",
       "  </thead>\n",
       "  <tbody>\n",
       "    <tr>\n",
       "      <th>0</th>\n",
       "      <td>p-tert-butylcyclohexanol</td>\n",
       "      <td>C(C)(C)(C)C1CCC(CC1)O</td>\n",
       "      <td>InChI=1S/C10H20O/c1-10(2,3)8-4-6-9(11)7-5-8/h8...</td>\n",
       "    </tr>\n",
       "    <tr>\n",
       "      <th>1</th>\n",
       "      <td>4-Chloro-1-(4-isopropyl-phenyl)-butan-1-one</td>\n",
       "      <td>ClCCCC(=O)C1=CC=C(C=C1)C(C)C</td>\n",
       "      <td>InChI=1S/C13H17ClO/c1-10(2)11-5-7-12(8-6-11)13...</td>\n",
       "    </tr>\n",
       "    <tr>\n",
       "      <th>2</th>\n",
       "      <td>4-Chloro-1-(4-methyl-phenyl)-butan-1-one</td>\n",
       "      <td>ClCCCC(=O)C1=CC=C(C=C1)C</td>\n",
       "      <td>InChI=1S/C11H13ClO/c1-9-4-6-10(7-5-9)11(13)3-2...</td>\n",
       "    </tr>\n",
       "    <tr>\n",
       "      <th>3</th>\n",
       "      <td>1-[4-(1-Bromo-1-methyl-ethyl)-phenyl]-4-chloro...</td>\n",
       "      <td>BrC(C)(C)C1=CC=C(C=C1)C(CCCCl)=O</td>\n",
       "      <td>InChI=1S/C13H16BrClO/c1-13(2,14)11-7-5-10(6-8-...</td>\n",
       "    </tr>\n",
       "    <tr>\n",
       "      <th>4</th>\n",
       "      <td>(4-Bromomethyl-phenyl)-cyclopropyl-methanone</td>\n",
       "      <td>BrCC1=CC=C(C=C1)C(=O)C1CC1</td>\n",
       "      <td>InChI=1S/C11H11BrO/c12-7-8-1-3-9(4-2-8)11(13)1...</td>\n",
       "    </tr>\n",
       "  </tbody>\n",
       "</table>\n",
       "</div>"
      ],
      "text/plain": [
       "                                                name  \\\n",
       "0                           p-tert-butylcyclohexanol   \n",
       "1        4-Chloro-1-(4-isopropyl-phenyl)-butan-1-one   \n",
       "2           4-Chloro-1-(4-methyl-phenyl)-butan-1-one   \n",
       "3  1-[4-(1-Bromo-1-methyl-ethyl)-phenyl]-4-chloro...   \n",
       "4       (4-Bromomethyl-phenyl)-cyclopropyl-methanone   \n",
       "\n",
       "                             smiles  \\\n",
       "0             C(C)(C)(C)C1CCC(CC1)O   \n",
       "1      ClCCCC(=O)C1=CC=C(C=C1)C(C)C   \n",
       "2          ClCCCC(=O)C1=CC=C(C=C1)C   \n",
       "3  BrC(C)(C)C1=CC=C(C=C1)C(CCCCl)=O   \n",
       "4        BrCC1=CC=C(C=C1)C(=O)C1CC1   \n",
       "\n",
       "                                               inchi  \n",
       "0  InChI=1S/C10H20O/c1-10(2,3)8-4-6-9(11)7-5-8/h8...  \n",
       "1  InChI=1S/C13H17ClO/c1-10(2)11-5-7-12(8-6-11)13...  \n",
       "2  InChI=1S/C11H13ClO/c1-9-4-6-10(7-5-9)11(13)3-2...  \n",
       "3  InChI=1S/C13H16BrClO/c1-13(2,14)11-7-5-10(6-8-...  \n",
       "4  InChI=1S/C11H11BrO/c12-7-8-1-3-9(4-2-8)11(13)1...  "
      ]
     },
     "execution_count": 15,
     "metadata": {},
     "output_type": "execute_result"
    }
   ],
   "source": [
    "df_products.head()"
   ]
  },
  {
   "cell_type": "code",
   "execution_count": 11,
   "id": "89c9e90a-9d14-4faa-84b2-e9f9a1385690",
   "metadata": {},
   "outputs": [
    {
     "data": {
      "text/plain": [
       "name      11204\n",
       "smiles    11204\n",
       "inchi     11204\n",
       "dtype: int64"
      ]
     },
     "execution_count": 11,
     "metadata": {},
     "output_type": "execute_result"
    }
   ],
   "source": [
    "df_reactants.count()"
   ]
  },
  {
   "cell_type": "code",
   "execution_count": 16,
   "id": "5bdec589-f9b8-4d59-9ccf-b0935c5f9a4c",
   "metadata": {},
   "outputs": [
    {
     "data": {
      "text/html": [
       "<div>\n",
       "<style scoped>\n",
       "    .dataframe tbody tr th:only-of-type {\n",
       "        vertical-align: middle;\n",
       "    }\n",
       "\n",
       "    .dataframe tbody tr th {\n",
       "        vertical-align: top;\n",
       "    }\n",
       "\n",
       "    .dataframe thead th {\n",
       "        text-align: right;\n",
       "    }\n",
       "</style>\n",
       "<table border=\"1\" class=\"dataframe\">\n",
       "  <thead>\n",
       "    <tr style=\"text-align: right;\">\n",
       "      <th></th>\n",
       "      <th>name</th>\n",
       "      <th>smiles</th>\n",
       "      <th>inchi</th>\n",
       "    </tr>\n",
       "  </thead>\n",
       "  <tbody>\n",
       "    <tr>\n",
       "      <th>0</th>\n",
       "      <td>p-tert-butylphenol</td>\n",
       "      <td>C(C)(C)(C)C1=CC=C(C=C1)O</td>\n",
       "      <td>InChI=1S/C10H14O/c1-10(2,3)8-4-6-9(11)7-5-8/h4...</td>\n",
       "    </tr>\n",
       "    <tr>\n",
       "      <th>1</th>\n",
       "      <td>aluminum chloride</td>\n",
       "      <td>[Cl-].[Al+3].[Cl-].[Cl-]</td>\n",
       "      <td>InChI=1S/Al.3ClH/h;3*1H/q+3;;;/p-3</td>\n",
       "    </tr>\n",
       "    <tr>\n",
       "      <th>2</th>\n",
       "      <td>4-chlorobutyryl chloride</td>\n",
       "      <td>ClCCCC(=O)Cl</td>\n",
       "      <td>InChI=1S/C4H6Cl2O/c5-3-1-2-4(6)7/h1-3H2</td>\n",
       "    </tr>\n",
       "    <tr>\n",
       "      <th>3</th>\n",
       "      <td>cumene</td>\n",
       "      <td>C1(=CC=CC=C1)C(C)C</td>\n",
       "      <td>InChI=1S/C9H12/c1-8(2)9-6-4-3-5-7-9/h3-8H,1-2H3</td>\n",
       "    </tr>\n",
       "    <tr>\n",
       "      <th>4</th>\n",
       "      <td>ice</td>\n",
       "      <td>none</td>\n",
       "      <td>none</td>\n",
       "    </tr>\n",
       "  </tbody>\n",
       "</table>\n",
       "</div>"
      ],
      "text/plain": [
       "                       name                    smiles  \\\n",
       "0        p-tert-butylphenol  C(C)(C)(C)C1=CC=C(C=C1)O   \n",
       "1         aluminum chloride  [Cl-].[Al+3].[Cl-].[Cl-]   \n",
       "2  4-chlorobutyryl chloride              ClCCCC(=O)Cl   \n",
       "3                    cumene        C1(=CC=CC=C1)C(C)C   \n",
       "4                       ice                      none   \n",
       "\n",
       "                                               inchi  \n",
       "0  InChI=1S/C10H14O/c1-10(2,3)8-4-6-9(11)7-5-8/h4...  \n",
       "1                 InChI=1S/Al.3ClH/h;3*1H/q+3;;;/p-3  \n",
       "2            InChI=1S/C4H6Cl2O/c5-3-1-2-4(6)7/h1-3H2  \n",
       "3    InChI=1S/C9H12/c1-8(2)9-6-4-3-5-7-9/h3-8H,1-2H3  \n",
       "4                                               none  "
      ]
     },
     "execution_count": 16,
     "metadata": {},
     "output_type": "execute_result"
    }
   ],
   "source": [
    "df_reactants.head()"
   ]
  },
  {
   "cell_type": "code",
   "execution_count": 12,
   "id": "3e9090f3-604a-4fff-b91f-55758f921567",
   "metadata": {},
   "outputs": [
    {
     "data": {
      "text/plain": [
       "name      441\n",
       "smiles    441\n",
       "inchi     441\n",
       "dtype: int64"
      ]
     },
     "execution_count": 12,
     "metadata": {},
     "output_type": "execute_result"
    }
   ],
   "source": [
    "df_solvents.count()"
   ]
  },
  {
   "cell_type": "code",
   "execution_count": 17,
   "id": "afd4935c-0f2e-493f-bc0f-ec1188ad449b",
   "metadata": {},
   "outputs": [
    {
     "data": {
      "text/html": [
       "<div>\n",
       "<style scoped>\n",
       "    .dataframe tbody tr th:only-of-type {\n",
       "        vertical-align: middle;\n",
       "    }\n",
       "\n",
       "    .dataframe tbody tr th {\n",
       "        vertical-align: top;\n",
       "    }\n",
       "\n",
       "    .dataframe thead th {\n",
       "        text-align: right;\n",
       "    }\n",
       "</style>\n",
       "<table border=\"1\" class=\"dataframe\">\n",
       "  <thead>\n",
       "    <tr style=\"text-align: right;\">\n",
       "      <th></th>\n",
       "      <th>name</th>\n",
       "      <th>smiles</th>\n",
       "      <th>inchi</th>\n",
       "    </tr>\n",
       "  </thead>\n",
       "  <tbody>\n",
       "    <tr>\n",
       "      <th>0</th>\n",
       "      <td>methylene chloride</td>\n",
       "      <td>C(Cl)Cl</td>\n",
       "      <td>InChI=1S/CH2Cl2/c2-1-3/h1H2</td>\n",
       "    </tr>\n",
       "    <tr>\n",
       "      <th>1</th>\n",
       "      <td>carbontetrachloride</td>\n",
       "      <td>C(Cl)(Cl)(Cl)Cl</td>\n",
       "      <td>InChI=1S/CCl4/c2-1(3,4)5</td>\n",
       "    </tr>\n",
       "    <tr>\n",
       "      <th>2</th>\n",
       "      <td>carbon tetrachloride</td>\n",
       "      <td>C(Cl)(Cl)(Cl)Cl</td>\n",
       "      <td>InChI=1S/CCl4/c2-1(3,4)5</td>\n",
       "    </tr>\n",
       "    <tr>\n",
       "      <th>3</th>\n",
       "      <td>water</td>\n",
       "      <td>O</td>\n",
       "      <td>InChI=1S/H2O/h1H2</td>\n",
       "    </tr>\n",
       "    <tr>\n",
       "      <th>4</th>\n",
       "      <td>toluene</td>\n",
       "      <td>C1(=CC=CC=C1)C</td>\n",
       "      <td>InChI=1S/C7H8/c1-7-5-3-2-4-6-7/h2-6H,1H3</td>\n",
       "    </tr>\n",
       "  </tbody>\n",
       "</table>\n",
       "</div>"
      ],
      "text/plain": [
       "                   name           smiles  \\\n",
       "0    methylene chloride          C(Cl)Cl   \n",
       "1   carbontetrachloride  C(Cl)(Cl)(Cl)Cl   \n",
       "2  carbon tetrachloride  C(Cl)(Cl)(Cl)Cl   \n",
       "3                 water                O   \n",
       "4               toluene   C1(=CC=CC=C1)C   \n",
       "\n",
       "                                      inchi  \n",
       "0               InChI=1S/CH2Cl2/c2-1-3/h1H2  \n",
       "1                  InChI=1S/CCl4/c2-1(3,4)5  \n",
       "2                  InChI=1S/CCl4/c2-1(3,4)5  \n",
       "3                         InChI=1S/H2O/h1H2  \n",
       "4  InChI=1S/C7H8/c1-7-5-3-2-4-6-7/h2-6H,1H3  "
      ]
     },
     "execution_count": 17,
     "metadata": {},
     "output_type": "execute_result"
    }
   ],
   "source": [
    "df_solvents.head()"
   ]
  },
  {
   "cell_type": "code",
   "execution_count": 13,
   "id": "c7925826-42e1-4f08-8cc4-c4e998640b7f",
   "metadata": {},
   "outputs": [
    {
     "data": {
      "text/plain": [
       "name      316\n",
       "smiles    316\n",
       "inchi     316\n",
       "dtype: int64"
      ]
     },
     "execution_count": 13,
     "metadata": {},
     "output_type": "execute_result"
    }
   ],
   "source": [
    "df_catalysts.count()"
   ]
  },
  {
   "cell_type": "code",
   "execution_count": 18,
   "id": "d6f742d5-ece7-45b9-8ea6-af3153090324",
   "metadata": {},
   "outputs": [
    {
     "data": {
      "text/html": [
       "<div>\n",
       "<style scoped>\n",
       "    .dataframe tbody tr th:only-of-type {\n",
       "        vertical-align: middle;\n",
       "    }\n",
       "\n",
       "    .dataframe tbody tr th {\n",
       "        vertical-align: top;\n",
       "    }\n",
       "\n",
       "    .dataframe thead th {\n",
       "        text-align: right;\n",
       "    }\n",
       "</style>\n",
       "<table border=\"1\" class=\"dataframe\">\n",
       "  <thead>\n",
       "    <tr style=\"text-align: right;\">\n",
       "      <th></th>\n",
       "      <th>name</th>\n",
       "      <th>smiles</th>\n",
       "      <th>inchi</th>\n",
       "    </tr>\n",
       "  </thead>\n",
       "  <tbody>\n",
       "    <tr>\n",
       "      <th>0</th>\n",
       "      <td>nickel</td>\n",
       "      <td>[Ni]</td>\n",
       "      <td>InChI=1S/Ni</td>\n",
       "    </tr>\n",
       "    <tr>\n",
       "      <th>1</th>\n",
       "      <td>AIBN</td>\n",
       "      <td>CC(C)(C#N)N=NC(C)(C)C#N</td>\n",
       "      <td>InChI=1S/C8H12N4/c1-7(2,5-9)11-12-8(3,4)6-10/h...</td>\n",
       "    </tr>\n",
       "    <tr>\n",
       "      <th>2</th>\n",
       "      <td>tetra-butylammonium bromide</td>\n",
       "      <td>[Br-].C(CCC)[N+](CCCC)(CCCC)CCCC</td>\n",
       "      <td>InChI=1S/C16H36N.BrH/c1-5-9-13-17(14-10-6-2,15...</td>\n",
       "    </tr>\n",
       "    <tr>\n",
       "      <th>3</th>\n",
       "      <td>tetraethylammonium bromide</td>\n",
       "      <td>[Br-].C(C)[N+](CC)(CC)CC</td>\n",
       "      <td>InChI=1S/C8H20N.BrH/c1-5-9(6-2,7-3)8-4;/h5-8H2...</td>\n",
       "    </tr>\n",
       "    <tr>\n",
       "      <th>4</th>\n",
       "      <td>silver</td>\n",
       "      <td>[Ag]</td>\n",
       "      <td>InChI=1S/Ag</td>\n",
       "    </tr>\n",
       "  </tbody>\n",
       "</table>\n",
       "</div>"
      ],
      "text/plain": [
       "                          name                            smiles  \\\n",
       "0                       nickel                              [Ni]   \n",
       "1                         AIBN           CC(C)(C#N)N=NC(C)(C)C#N   \n",
       "2  tetra-butylammonium bromide  [Br-].C(CCC)[N+](CCCC)(CCCC)CCCC   \n",
       "3   tetraethylammonium bromide          [Br-].C(C)[N+](CC)(CC)CC   \n",
       "4                       silver                              [Ag]   \n",
       "\n",
       "                                               inchi  \n",
       "0                                        InChI=1S/Ni  \n",
       "1  InChI=1S/C8H12N4/c1-7(2,5-9)11-12-8(3,4)6-10/h...  \n",
       "2  InChI=1S/C16H36N.BrH/c1-5-9-13-17(14-10-6-2,15...  \n",
       "3  InChI=1S/C8H20N.BrH/c1-5-9(6-2,7-3)8-4;/h5-8H2...  \n",
       "4                                        InChI=1S/Ag  "
      ]
     },
     "execution_count": 18,
     "metadata": {},
     "output_type": "execute_result"
    }
   ],
   "source": [
    "df_catalysts.head()"
   ]
  },
  {
   "cell_type": "code",
   "execution_count": 14,
   "id": "0ef9cfdb-2a46-4ca6-a7d0-b36d16920352",
   "metadata": {},
   "outputs": [
    {
     "data": {
      "text/plain": [
       "actions    24\n",
       "dtype: int64"
      ]
     },
     "execution_count": 14,
     "metadata": {},
     "output_type": "execute_result"
    }
   ],
   "source": [
    "df_actions.count()"
   ]
  },
  {
   "cell_type": "code",
   "execution_count": 19,
   "id": "0153b9b9-4a3b-49b9-82c5-ecbe1f46c4b1",
   "metadata": {},
   "outputs": [
    {
     "data": {
      "text/html": [
       "<div>\n",
       "<style scoped>\n",
       "    .dataframe tbody tr th:only-of-type {\n",
       "        vertical-align: middle;\n",
       "    }\n",
       "\n",
       "    .dataframe tbody tr th {\n",
       "        vertical-align: top;\n",
       "    }\n",
       "\n",
       "    .dataframe thead th {\n",
       "        text-align: right;\n",
       "    }\n",
       "</style>\n",
       "<table border=\"1\" class=\"dataframe\">\n",
       "  <thead>\n",
       "    <tr style=\"text-align: right;\">\n",
       "      <th></th>\n",
       "      <th>actions</th>\n",
       "    </tr>\n",
       "  </thead>\n",
       "  <tbody>\n",
       "    <tr>\n",
       "      <th>0</th>\n",
       "      <td>Yield</td>\n",
       "    </tr>\n",
       "    <tr>\n",
       "      <th>1</th>\n",
       "      <td>Add</td>\n",
       "    </tr>\n",
       "    <tr>\n",
       "      <th>2</th>\n",
       "      <td>Heat</td>\n",
       "    </tr>\n",
       "    <tr>\n",
       "      <th>3</th>\n",
       "      <td>Unknown</td>\n",
       "    </tr>\n",
       "    <tr>\n",
       "      <th>4</th>\n",
       "      <td>Stir</td>\n",
       "    </tr>\n",
       "  </tbody>\n",
       "</table>\n",
       "</div>"
      ],
      "text/plain": [
       "   actions\n",
       "0    Yield\n",
       "1      Add\n",
       "2     Heat\n",
       "3  Unknown\n",
       "4     Stir"
      ]
     },
     "execution_count": 19,
     "metadata": {},
     "output_type": "execute_result"
    }
   ],
   "source": [
    "df_actions.head()"
   ]
  },
  {
   "cell_type": "code",
   "execution_count": 20,
   "id": "e7fc7f0d-0b56-47cf-8f17-93be11581239",
   "metadata": {},
   "outputs": [],
   "source": [
    "df_reaction = pd.DataFrame(columns=['source', 'reaction_smiles', 'products', 'reactants', 'solvents', 'catalysts', 'actions'])"
   ]
  },
  {
   "cell_type": "code",
   "execution_count": 26,
   "id": "16552fb2-0c69-436d-95df-c884c970582e",
   "metadata": {},
   "outputs": [],
   "source": [
    "reactions = []\n",
    "for xml_file in xml_file_list:\n",
    "    tree = etree.parse(xml_file)\n",
    "    root = tree.getroot()\n",
    "    \n",
    "    for reaction in root:\n",
    "        single_reaction = []\n",
    "        docID = reaction.findall('./{http://bitbucket.org/dan2097}source/{http://bitbucket.org/dan2097}documentId')\n",
    "        single_reaction.append(docID[0].text)\n",
    "        \n",
    "        reaction_smiles = reaction.findall('./{http://bitbucket.org/dan2097}reactionSmiles')[0].text\n",
    "        single_reaction.append(reaction_smiles)\n",
    "        \n",
    "        products = reaction.findall('.//{http://www.xml-cml.org/schema}product')\n",
    "        products_names = []\n",
    "        for product in products:\n",
    "            name = product.findall('.//{http://www.xml-cml.org/schema}name')[0].text\n",
    "            if name == 'title compound':\n",
    "                if len(product.findall('.//{http://bitbucket.org/dan2097}nameResolved')) > 0:\n",
    "                    name = product.findall('.//{http://bitbucket.org/dan2097}nameResolved')[0].text\n",
    "                else:\n",
    "                    name = 'unknown'\n",
    "            products_names.append(name)\n",
    "        single_reaction.append(products_names)\n",
    "        \n",
    "        reactants = reaction.findall('.//{http://www.xml-cml.org/schema}reactant')\n",
    "        reactants_names = []\n",
    "        for reactant in reactants:\n",
    "            name = reactant.findall('.//{http://www.xml-cml.org/schema}name')[0].text\n",
    "            reactants_names.append(name)\n",
    "        single_reaction.append(reactants_names)\n",
    "        \n",
    "        solvents = reaction.findall('.//{http://www.xml-cml.org/schema}spectator[@role=\"solvent\"]')\n",
    "        solvents_names = []\n",
    "        for solvent in solvents:\n",
    "            name = solvent.findall('.//{http://www.xml-cml.org/schema}name')[0].text\n",
    "            solvents_names.append(name)\n",
    "        single_reaction.append(solvents_names)\n",
    "        \n",
    "        catalysts = reaction.findall('.//{http://www.xml-cml.org/schema}spectator[@role=\"catalyst\"]')\n",
    "        catalysts_names = []\n",
    "        for catalyst in catalysts:\n",
    "            name = catalyst.findall('.//{http://www.xml-cml.org/schema}name')[0].text\n",
    "            catalysts_names.append(name)\n",
    "        single_reaction.append(catalysts_names)\n",
    "        \n",
    "        actions = reaction.findall('.//{http://bitbucket.org/dan2097}reactionAction[@action]')\n",
    "        actions_names = [e.attrib['action'] for e in reaction.findall('.//{http://bitbucket.org/dan2097}reactionAction[@action]')]\n",
    "        single_reaction.append(actions_names)\n",
    "        reactions.append(single_reaction)"
   ]
  },
  {
   "cell_type": "code",
   "execution_count": 28,
   "id": "9b8cd58e-f275-4ef9-b4a4-725488a5feca",
   "metadata": {},
   "outputs": [],
   "source": [
    "df_reaction = pd.DataFrame(reactions, columns=['source', 'reaction_smiles', 'products', 'reactants', 'solvents', 'catalysts', 'actions'])"
   ]
  },
  {
   "cell_type": "code",
   "execution_count": 29,
   "id": "1834e16c-a265-4ce8-b014-fc4bb2c447c9",
   "metadata": {},
   "outputs": [
    {
     "data": {
      "text/plain": [
       "source             9399\n",
       "reaction_smiles    9399\n",
       "products           9399\n",
       "reactants          9399\n",
       "solvents           9399\n",
       "catalysts          9399\n",
       "actions            9399\n",
       "dtype: int64"
      ]
     },
     "execution_count": 29,
     "metadata": {},
     "output_type": "execute_result"
    }
   ],
   "source": [
    "df_reaction.count()"
   ]
  },
  {
   "cell_type": "code",
   "execution_count": 30,
   "id": "5e8a387e-278f-4f9f-9544-2289d7588254",
   "metadata": {},
   "outputs": [
    {
     "data": {
      "text/html": [
       "<div>\n",
       "<style scoped>\n",
       "    .dataframe tbody tr th:only-of-type {\n",
       "        vertical-align: middle;\n",
       "    }\n",
       "\n",
       "    .dataframe tbody tr th {\n",
       "        vertical-align: top;\n",
       "    }\n",
       "\n",
       "    .dataframe thead th {\n",
       "        text-align: right;\n",
       "    }\n",
       "</style>\n",
       "<table border=\"1\" class=\"dataframe\">\n",
       "  <thead>\n",
       "    <tr style=\"text-align: right;\">\n",
       "      <th></th>\n",
       "      <th>source</th>\n",
       "      <th>reaction_smiles</th>\n",
       "      <th>products</th>\n",
       "      <th>reactants</th>\n",
       "      <th>solvents</th>\n",
       "      <th>catalysts</th>\n",
       "      <th>actions</th>\n",
       "    </tr>\n",
       "  </thead>\n",
       "  <tbody>\n",
       "    <tr>\n",
       "      <th>0</th>\n",
       "      <td>US20010000035A1</td>\n",
       "      <td>[C:1]([C:5]1[CH:10]=[CH:9][C:8]([OH:11])=[CH:7...</td>\n",
       "      <td>[p-tert-butylcyclohexanol]</td>\n",
       "      <td>[p-tert-butylphenol]</td>\n",
       "      <td>[]</td>\n",
       "      <td>[nickel]</td>\n",
       "      <td>[Yield]</td>\n",
       "    </tr>\n",
       "    <tr>\n",
       "      <th>1</th>\n",
       "      <td>US20010000038A1</td>\n",
       "      <td>[Cl-].[Al+3].[Cl-].[Cl-].[Cl:5][CH2:6][CH2:7][...</td>\n",
       "      <td>[4-Chloro-1-(4-isopropyl-phenyl)-butan-1-one]</td>\n",
       "      <td>[aluminum chloride, 4-chlorobutyryl chloride, ...</td>\n",
       "      <td>[methylene chloride, methylene chloride, methy...</td>\n",
       "      <td>[]</td>\n",
       "      <td>[Add, Heat, Unknown, Stir, Add, Stir, Add, Par...</td>\n",
       "    </tr>\n",
       "    <tr>\n",
       "      <th>2</th>\n",
       "      <td>US20010000038A1</td>\n",
       "      <td>[Al+3].[Cl-].[Cl-].[Cl-].[Cl:5][CH2:6][CH2:7][...</td>\n",
       "      <td>[4-Chloro-1-(4-methyl-phenyl)-butan-1-one]</td>\n",
       "      <td>[AlCl3, 4-chlorobutyryl chloride, ice water, t...</td>\n",
       "      <td>[]</td>\n",
       "      <td>[]</td>\n",
       "      <td>[Cool, Add, Stir, Add, Stir, Stir, Remove, Ext...</td>\n",
       "    </tr>\n",
       "    <tr>\n",
       "      <th>3</th>\n",
       "      <td>US20010000038A1</td>\n",
       "      <td>[Cl:1][CH2:2][CH2:3][CH2:4][C:5]([C:7]1[CH:12]...</td>\n",
       "      <td>[1-[4-(1-Bromo-1-methyl-ethyl)-phenyl]-4-chlor...</td>\n",
       "      <td>[4-chloro-1-(4-isopropyl-phenyl)-butan-1-one, ...</td>\n",
       "      <td>[carbontetrachloride]</td>\n",
       "      <td>[]</td>\n",
       "      <td>[Dissolve, Add, Stir, Heat, Cool, Filter, Wash...</td>\n",
       "    </tr>\n",
       "    <tr>\n",
       "      <th>4</th>\n",
       "      <td>US20010000038A1</td>\n",
       "      <td>[Cl:1][CH2:2][CH2:3][CH2:4][C:5]([C:7]1[CH:12]...</td>\n",
       "      <td>[1-[4-(1-Bromo-1-methyl-ethyl)-phenyl]-4-chlor...</td>\n",
       "      <td>[4-chloro-1-(4-isopropyl-phenyl)-butan-1-one, ...</td>\n",
       "      <td>[carbon tetrachloride]</td>\n",
       "      <td>[AIBN]</td>\n",
       "      <td>[Dissolve, Add, Stir, Heat, Irradiate, Remove,...</td>\n",
       "    </tr>\n",
       "  </tbody>\n",
       "</table>\n",
       "</div>"
      ],
      "text/plain": [
       "            source                                    reaction_smiles  \\\n",
       "0  US20010000035A1  [C:1]([C:5]1[CH:10]=[CH:9][C:8]([OH:11])=[CH:7...   \n",
       "1  US20010000038A1  [Cl-].[Al+3].[Cl-].[Cl-].[Cl:5][CH2:6][CH2:7][...   \n",
       "2  US20010000038A1  [Al+3].[Cl-].[Cl-].[Cl-].[Cl:5][CH2:6][CH2:7][...   \n",
       "3  US20010000038A1  [Cl:1][CH2:2][CH2:3][CH2:4][C:5]([C:7]1[CH:12]...   \n",
       "4  US20010000038A1  [Cl:1][CH2:2][CH2:3][CH2:4][C:5]([C:7]1[CH:12]...   \n",
       "\n",
       "                                            products  \\\n",
       "0                         [p-tert-butylcyclohexanol]   \n",
       "1      [4-Chloro-1-(4-isopropyl-phenyl)-butan-1-one]   \n",
       "2         [4-Chloro-1-(4-methyl-phenyl)-butan-1-one]   \n",
       "3  [1-[4-(1-Bromo-1-methyl-ethyl)-phenyl]-4-chlor...   \n",
       "4  [1-[4-(1-Bromo-1-methyl-ethyl)-phenyl]-4-chlor...   \n",
       "\n",
       "                                           reactants  \\\n",
       "0                               [p-tert-butylphenol]   \n",
       "1  [aluminum chloride, 4-chlorobutyryl chloride, ...   \n",
       "2  [AlCl3, 4-chlorobutyryl chloride, ice water, t...   \n",
       "3  [4-chloro-1-(4-isopropyl-phenyl)-butan-1-one, ...   \n",
       "4  [4-chloro-1-(4-isopropyl-phenyl)-butan-1-one, ...   \n",
       "\n",
       "                                            solvents catalysts  \\\n",
       "0                                                 []  [nickel]   \n",
       "1  [methylene chloride, methylene chloride, methy...        []   \n",
       "2                                                 []        []   \n",
       "3                              [carbontetrachloride]        []   \n",
       "4                             [carbon tetrachloride]    [AIBN]   \n",
       "\n",
       "                                             actions  \n",
       "0                                            [Yield]  \n",
       "1  [Add, Heat, Unknown, Stir, Add, Stir, Add, Par...  \n",
       "2  [Cool, Add, Stir, Add, Stir, Stir, Remove, Ext...  \n",
       "3  [Dissolve, Add, Stir, Heat, Cool, Filter, Wash...  \n",
       "4  [Dissolve, Add, Stir, Heat, Irradiate, Remove,...  "
      ]
     },
     "execution_count": 30,
     "metadata": {},
     "output_type": "execute_result"
    }
   ],
   "source": [
    "df_reaction.head()"
   ]
  },
  {
   "cell_type": "code",
   "execution_count": 31,
   "id": "be0d678c-d951-4265-80ce-cbfb2dc83806",
   "metadata": {},
   "outputs": [],
   "source": [
    "from pubchempy import get_cids, get_compounds"
   ]
  },
  {
   "cell_type": "code",
   "execution_count": 32,
   "id": "71c307d8-c8e3-4901-8857-c0934c2ac212",
   "metadata": {},
   "outputs": [],
   "source": [
    "def pubchem_compounds(df):\n",
    "    \"\"\"\n",
    "    df: existing dataframe\n",
    "    \"\"\"\n",
    "    di = {}\n",
    "    for ind, row in df.iterrows():\n",
    "        name, smiles, inchi = row['name'], row['smiles'], row['inchi']\n",
    "        if smiles != 'none':\n",
    "            try:\n",
    "                c = get_compounds(smiles, 'smiles')\n",
    "                di[str(ind)] = c \n",
    "                continue\n",
    "            except:\n",
    "                print(\"Error of smiles on %s\" % ind)\n",
    "        else:\n",
    "            try:\n",
    "                c = get_compounds(name, 'name')\n",
    "                di[str(ind)] = c\n",
    "                continue\n",
    "            except:\n",
    "                print(\"Error of name on %s\" % ind)\n",
    "    return di"
   ]
  },
  {
   "cell_type": "code",
   "execution_count": null,
   "id": "95ba3205-58c4-43b0-9f1a-e2435204275e",
   "metadata": {},
   "outputs": [],
   "source": []
  }
 ],
 "metadata": {
  "kernelspec": {
   "display_name": "Python 3 (ipykernel)",
   "language": "python",
   "name": "python3"
  },
  "language_info": {
   "codemirror_mode": {
    "name": "ipython",
    "version": 3
   },
   "file_extension": ".py",
   "mimetype": "text/x-python",
   "name": "python",
   "nbconvert_exporter": "python",
   "pygments_lexer": "ipython3",
   "version": "3.7.12"
  }
 },
 "nbformat": 4,
 "nbformat_minor": 5
}
